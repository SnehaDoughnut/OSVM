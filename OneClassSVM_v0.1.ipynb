{
 "cells": [
  {
   "cell_type": "code",
   "execution_count": 191,
   "metadata": {},
   "outputs": [],
   "source": [
    "#X_train : label encoded\n",
    "#X_train_1 : one hot encoded\n",
    "#X_train_scale : Scaled data\n",
    "#X_train_orig: original data without enocding \n",
    "#outlier_predict_train : SVM train result\n",
    "#outlier_predict_test: SVM test result"
   ]
  },
  {
   "cell_type": "code",
   "execution_count": 192,
   "metadata": {},
   "outputs": [],
   "source": [
    "import pandas as pd\n",
    "import numpy as np\n",
    "import matplotlib.pyplot as plt\n",
    "from sklearn.model_selection import train_test_split\n",
    "from sklearn import svm\n",
    "from numpy import array"
   ]
  },
  {
   "cell_type": "code",
   "execution_count": 193,
   "metadata": {},
   "outputs": [],
   "source": [
    "#Get the dataset\n",
    "df=pd.read_csv('nginx_IP_validation')"
   ]
  },
  {
   "cell_type": "code",
   "execution_count": 194,
   "metadata": {},
   "outputs": [],
   "source": [
    "#Select only required features\n",
    "ndf=df[['ip','response_code','url','access_method','user_name','user_agent_device','user_agent_os','user_agent_name','geoip_city_name','geoip_continent_name','geoip_country_iso_code','geoip_region_name','action']]\n",
    "\n",
    "#preprocessing begins\n",
    "#splitting ip into 4 segments\n",
    "#ip=ndf['ip']\n",
    "#ip_df=pd.DataFrame(ip)\n",
    "#ip_df=ip_df['ip'].str.split('.',expand=True).rename(columns=lambda x: \"segment\"+str(x+1)).astype(int)\n",
    "#ndf=ndf.join(ip_df)\n",
    "\n",
    "#getting the first accessed route from url\n",
    "url=ndf['url']\n",
    "url_df=pd.DataFrame(url)\n",
    "url_df=url_df['url'].str.split('/',expand=True)\n",
    "url_df=url_df.loc[:,1].to_frame('url')\n",
    "url_df=url_df.replace(r'^\\s*$', np.nan, regex=True)\n",
    "url_df.url.fillna('events',inplace=True)\n",
    "url_df.rename(columns={'url':'access_route'},inplace=True)\n",
    "ndf=ndf.join(url_df)"
   ]
  },
  {
   "cell_type": "code",
   "execution_count": 195,
   "metadata": {},
   "outputs": [],
   "source": [
    "#Converting IP address to int values\n",
    "ip_transform=[]\n",
    "from ipaddress import ip_address\n",
    "for i in df['ip']:\n",
    "    ips=int(ip_address(i))\n",
    "    ip_transform.append(ips)\n",
    "\n",
    "ip_df=pd.DataFrame(ip_transform)\n",
    "ip_df.rename(columns={0:'ip_transform'},inplace=True)\n",
    "ndf=ndf.join(ip_df)"
   ]
  },
  {
   "cell_type": "code",
   "execution_count": 196,
   "metadata": {},
   "outputs": [],
   "source": [
    "#Making allow as 1 and block as -1 and storing it into attack column\n",
    "ndf.loc[ndf['action'] == \"allow\", \"attack\"] = 1  \n",
    "ndf.loc[ndf['action'] != \"allow\", \"attack\"] = -1\n",
    "target=ndf['attack']"
   ]
  },
  {
   "cell_type": "code",
   "execution_count": 197,
   "metadata": {},
   "outputs": [],
   "source": [
    "#drop the processed columns\n",
    "ndf.drop(columns=['ip','url','action'],inplace=True)"
   ]
  },
  {
   "cell_type": "code",
   "execution_count": 198,
   "metadata": {},
   "outputs": [
    {
     "name": "stdout",
     "output_type": "stream",
     "text": [
      "nu.shape (234,)\n",
      "outlier fraction 0.010852425563491327\n"
     ]
    }
   ],
   "source": [
    "#estimate number of outliers in the dataset\n",
    "nu = target[target == -1]  \n",
    "print(\"nu.shape\", nu.shape)  \n",
    "print(\"outlier fraction\", nu.shape[0]/target.shape[0])\n"
   ]
  },
  {
   "cell_type": "code",
   "execution_count": 199,
   "metadata": {},
   "outputs": [],
   "source": [
    "normal=ndf.loc[ndf.attack==1] #dataframe with normal observations \n",
    "abnormal=ndf.loc[ndf.attack==-1] #dataframe with abnormal observations\n",
    "\n"
   ]
  },
  {
   "cell_type": "code",
   "execution_count": 200,
   "metadata": {},
   "outputs": [],
   "source": [
    "# Once class SVM is trained with the observations of only one class.The algorithm is trained with \n",
    "# first 19000 observation of normal transactions. The remaining observation is merged with the anomalous observation \n",
    "# to create a test set. \n",
    "X_train = normal.loc[0:19000, :].drop('attack',1)\n",
    "\n",
    "#creating test observations\n",
    "X_test_1 = normal.loc[19001:, :].drop('attack',1)\n",
    "X_test_2 = abnormal.drop('attack',1)\n",
    "X_test = X_test_1.append(X_test_2)\n",
    "\n",
    "#Y_test to test the output of model\n",
    "Y_1 = normal.loc[19001:, 'attack']\n",
    "Y_2 = abnormal['attack']\n",
    "Y_test= Y_1.append(Y_2)\n",
    "\n",
    "X_train_orig=X_train.copy()\n",
    "X_test_orig=X_test.copy()\n",
    "\n"
   ]
  },
  {
   "cell_type": "code",
   "execution_count": 201,
   "metadata": {},
   "outputs": [],
   "source": [
    "#X_train=pd.get_dummies(X_train)\n",
    "#X_test = pd.get_dummies(X_test)\n",
    "#X_test=X_test.reindex(columns = X_train.columns, fill_value=0)\n"
   ]
  },
  {
   "cell_type": "code",
   "execution_count": 202,
   "metadata": {},
   "outputs": [],
   "source": [
    "from sklearn.preprocessing import LabelEncoder\n",
    "le=LabelEncoder()\n",
    "# Iterating over all the common columns in train and test\n",
    "for col in X_test.columns.values:\n",
    "    # Encoding only categorical variables\n",
    "    if X_test[col].dtypes=='object':\n",
    "    # Using whole data to form an exhaustive list of levels\n",
    "        data=X_train[col].append(X_test[col])\n",
    "        le.fit(data.values)\n",
    "        X_train[col]=le.transform(X_train[col])\n",
    "        X_test[col]=le.transform(X_test[col])"
   ]
  },
  {
   "cell_type": "code",
   "execution_count": 203,
   "metadata": {},
   "outputs": [],
   "source": [
    "#Then encoding using one hot encoding\n",
    "from sklearn.preprocessing import OneHotEncoder\n",
    "columns=['access_method','user_name','user_agent_device','user_agent_os','user_agent_name','geoip_city_name','geoip_continent_name','geoip_country_iso_code','geoip_region_name','access_route']\n",
    "enc=OneHotEncoder(sparse=False)\n",
    "\n",
    "\n",
    "X_train_1=X_train\n",
    "X_test_1=X_test\n",
    "\n",
    "for col in columns:\n",
    "    data=X_train[[col]].append(X_test[[col]])\n",
    "    enc.fit(data.values)\n",
    "    \n",
    "    temp = enc.transform(X_train[[col]])\n",
    "    # Changing the encoded features into a data frame with new column names\n",
    "    temp=pd.DataFrame(temp,columns=[(col+\"_\"+str(i)) for i in data[col].value_counts().index])\n",
    "    # Setting the index values similar to the X_train data frame\n",
    "    temp=temp.set_index(X_train.index.values)\n",
    "    # adding the new One Hot Encoded varibales to the train data frame\n",
    "    X_train_1=pd.concat([X_train_1,temp],axis=1)\n",
    "    \n",
    "    # fitting One Hot Encoding on test data\n",
    "    temp = enc.transform(X_test[[col]])\n",
    "    # changing it into data frame and adding column names\n",
    "    temp=pd.DataFrame(temp,columns=[(col+\"_\"+str(i)) for i in data[col].value_counts().index])\n",
    "    # Setting the index for proper concatenation\n",
    "    temp=temp.set_index(X_test.index.values)\n",
    "    # adding the new One Hot Encoded varibales to test data frame\n",
    "    X_test_1=pd.concat([X_test_1,temp],axis=1)"
   ]
  },
  {
   "cell_type": "code",
   "execution_count": 204,
   "metadata": {},
   "outputs": [],
   "source": [
    "#Drop the initial columns that are already encoded\n",
    "X_train_1.drop(columns=columns,axis=1,inplace=True)\n",
    "X_test_1.drop(columns=columns,axis=1,inplace=True)"
   ]
  },
  {
   "cell_type": "code",
   "execution_count": 205,
   "metadata": {},
   "outputs": [
    {
     "name": "stderr",
     "output_type": "stream",
     "text": [
      "C:\\Anaconda\\lib\\site-packages\\sklearn\\preprocessing\\data.py:164: UserWarning: Numerical issues were encountered when centering the data and might not be solved. Dataset may contain too large values. You may need to prescale your features.\n",
      "  warnings.warn(\"Numerical issues were encountered \"\n",
      "C:\\Anaconda\\lib\\site-packages\\sklearn\\preprocessing\\data.py:164: UserWarning: Numerical issues were encountered when centering the data and might not be solved. Dataset may contain too large values. You may need to prescale your features.\n",
      "  warnings.warn(\"Numerical issues were encountered \"\n"
     ]
    }
   ],
   "source": [
    "#standardadizing as SVM assumes standardization\n",
    "from sklearn.preprocessing import scale\n",
    "X_train_scale=scale(X_train_1)\n",
    "X_test_scale=scale(X_test_1)"
   ]
  },
  {
   "cell_type": "code",
   "execution_count": 206,
   "metadata": {},
   "outputs": [],
   "source": [
    "# Setting the hyperparameters for Once Class SVM\n",
    "oneclass = svm.OneClassSVM(kernel='rbf', gamma=0.004, nu=0.0001)"
   ]
  },
  {
   "cell_type": "code",
   "execution_count": 207,
   "metadata": {},
   "outputs": [
    {
     "data": {
      "text/plain": [
       "OneClassSVM(cache_size=200, coef0=0.0, degree=3, gamma=0.004, kernel='rbf',\n",
       "      max_iter=-1, nu=0.0001, random_state=None, shrinking=True, tol=0.001,\n",
       "      verbose=False)"
      ]
     },
     "execution_count": 207,
     "metadata": {},
     "output_type": "execute_result"
    }
   ],
   "source": [
    "#Fit the model with train_feature\n",
    "oneclass.fit(X_train_scale)"
   ]
  },
  {
   "cell_type": "code",
   "execution_count": 208,
   "metadata": {},
   "outputs": [],
   "source": [
    "#Output of one class SVM\n",
    "outlier_predict_test=oneclass.predict(X_test_scale)"
   ]
  },
  {
   "cell_type": "code",
   "execution_count": 209,
   "metadata": {},
   "outputs": [
    {
     "name": "stdout",
     "output_type": "stream",
     "text": [
      "[[  -1  362]\n",
      " [   1 2224]]\n"
     ]
    }
   ],
   "source": [
    "# Check the number of outliers predicted by the algorithm\n",
    "unique, counts = np.unique(outlier_predict_test, return_counts=True)\n",
    "print (np.asarray((unique, counts)).T)"
   ]
  },
  {
   "cell_type": "code",
   "execution_count": 210,
   "metadata": {},
   "outputs": [],
   "source": [
    "#Convert Y-test and outlier_predict to dataframe \n",
    "\n",
    "Y_test= Y_test.to_frame()\n",
    "Y_test=Y_test.reset_index()\n",
    "outlier_predict_test = pd.DataFrame(outlier_predict_test)\n",
    "outlier_predict_test= outlier_predict_test.rename(columns={0: 'prediction'})"
   ]
  },
  {
   "cell_type": "code",
   "execution_count": 211,
   "metadata": {},
   "outputs": [
    {
     "name": "stdout",
     "output_type": "stream",
     "text": [
      "2203 149 21 213\n"
     ]
    }
   ],
   "source": [
    "#Calculate false positives and negatives\n",
    "TP = FN = FP = TN = 0\n",
    "for j in range(len(Y_test)):\n",
    "    if Y_test['attack'][j]== 1 and outlier_predict_test['prediction'][j] == 1:\n",
    "        TP = TP+1\n",
    "    elif Y_test['attack'][j]== 1 and outlier_predict_test['prediction'][j] == -1:\n",
    "        FN = FN+1\n",
    "    elif Y_test['attack'][j]== -1 and outlier_predict_test['prediction'][j] == 1:\n",
    "        FP = FP+1\n",
    "    else:\n",
    "        TN = TN +1\n",
    "print (TP,  FN,  FP,  TN)"
   ]
  },
  {
   "cell_type": "code",
   "execution_count": 212,
   "metadata": {},
   "outputs": [
    {
     "name": "stdout",
     "output_type": "stream",
     "text": [
      "accuracy: 0.934261407579273\n",
      "precison: 0.9905575539568345\n",
      "recall: 0.9366496598639455\n",
      "f1: 0.9628496503496503\n",
      "area under curve (auc):  0.923453035060178\n"
     ]
    }
   ],
   "source": [
    "from sklearn import metrics\n",
    "print(\"accuracy:\",metrics.accuracy_score(Y_test['attack'],outlier_predict_test['prediction']))\n",
    "print(\"precison:\",metrics.precision_score(Y_test['attack'],outlier_predict_test['prediction']))\n",
    "print(\"recall:\",metrics.recall_score(Y_test['attack'],outlier_predict_test['prediction']))\n",
    "print(\"f1:\",metrics.f1_score(Y_test['attack'],outlier_predict_test['prediction']))\n",
    "print(\"area under curve (auc): \", metrics.roc_auc_score(Y_test['attack'],outlier_predict_test['prediction'])) "
   ]
  },
  {
   "cell_type": "code",
   "execution_count": 213,
   "metadata": {},
   "outputs": [],
   "source": [
    "final_test_result_SVM=outlier_predict_test.set_index(X_test_orig.index.values).join(X_test_orig)"
   ]
  },
  {
   "cell_type": "code",
   "execution_count": 214,
   "metadata": {},
   "outputs": [],
   "source": [
    "#Predict the train results\n",
    "outlier_predict_train=oneclass.predict(X_train_scale)"
   ]
  },
  {
   "cell_type": "code",
   "execution_count": 215,
   "metadata": {},
   "outputs": [],
   "source": [
    "#Convert train results to DataFrame\n",
    "outlier_predict_train=pd.DataFrame(outlier_predict_train)\n",
    "outlier_predict_train.rename(columns={0:'prediction'},inplace=True)"
   ]
  },
  {
   "cell_type": "code",
   "execution_count": 126,
   "metadata": {
    "scrolled": true
   },
   "outputs": [
    {
     "data": {
      "image/png": "[encoded data removed]",
      "text/plain": [
       "<Figure size 1440x1440 with 12 Axes>"
      ]
     },
     "metadata": {},
     "output_type": "display_data"
    }
   ],
   "source": [
    "X_train.hist(figsize=(20,20))\n",
    "plt.show()"
   ]
  },
  {
   "cell_type": "code",
   "execution_count": 127,
   "metadata": {},
   "outputs": [],
   "source": [
    "\n",
    "corr=X_train.corr()"
   ]
  },
  {
   "cell_type": "code",
   "execution_count": 128,
   "metadata": {},
   "outputs": [
    {
     "data": {
      "text/plain": [
       "<Figure size 864x648 with 0 Axes>"
      ]
     },
     "metadata": {},
     "output_type": "display_data"
    }
   ],
   "source": [
    "import seaborn as sns\n",
    "fig=plt.figure(figsize=(12,9))"
   ]
  },
  {
   "cell_type": "code",
   "execution_count": 129,
   "metadata": {},
   "outputs": [
    {
     "data": {
      "image/png": "[encoded data removed]",
      "text/plain": [
       "<Figure size 432x288 with 2 Axes>"
      ]
     },
     "metadata": {},
     "output_type": "display_data"
    }
   ],
   "source": [
    "sns.heatmap(corr,vmax=0.8,square=True)\n",
    "plt.show()"
   ]
  },
  {
   "cell_type": "code",
   "execution_count": 31,
   "metadata": {},
   "outputs": [
    {
     "name": "stdout",
     "output_type": "stream",
     "text": [
      "[[   -1   194]\n",
      " [    1 18782]]\n"
     ]
    }
   ],
   "source": [
    "from sklearn.ensemble import IsolationForest\n",
    "IsoForest=IsolationForest(n_estimators=80,contamination=0.01,max_samples=len(X_train))\n",
    "\n",
    "IsoForest.fit(X_train)\n",
    "y_predict_train=IsoForest.predict(X_train)\n",
    "score_train=IsoForest.decision_function(X_train)\n",
    "\n",
    "unique, counts = np.unique(y_predict_train, return_counts=True)\n",
    "print (np.asarray((unique, counts)).T)"
   ]
  },
  {
   "cell_type": "code",
   "execution_count": 33,
   "metadata": {},
   "outputs": [],
   "source": [
    "y_predict_train=pd.DataFrame(y_predict_train)\n",
    "y_predict_train.rename(columns={0:'prediction'},inplace=True)"
   ]
  },
  {
   "cell_type": "code",
   "execution_count": 34,
   "metadata": {},
   "outputs": [
    {
     "name": "stdout",
     "output_type": "stream",
     "text": [
      "[[  -1  392]\n",
      " [   1 2194]]\n"
     ]
    }
   ],
   "source": [
    "y_predict_test=IsoForest.predict(X_test)\n",
    "score_test=IsoForest.decision_function(X_test)\n",
    "\n",
    "unique, counts = np.unique(y_predict_test, return_counts=True)\n",
    "print (np.asarray((unique, counts)).T)"
   ]
  },
  {
   "cell_type": "code",
   "execution_count": 35,
   "metadata": {},
   "outputs": [],
   "source": [
    "#convert y_predict_test to DataFrame\n",
    "y_predict_test=pd.DataFrame(y_predict_test)\n",
    "y_predict_test.rename(columns={0:'prediction'},inplace=True)"
   ]
  },
  {
   "cell_type": "code",
   "execution_count": 36,
   "metadata": {},
   "outputs": [],
   "source": [
    "final_test_result_IF=y_predict_test.set_index(X_test.index.values).join(X_test_orig)"
   ]
  },
  {
   "cell_type": "code",
   "execution_count": 37,
   "metadata": {},
   "outputs": [
    {
     "name": "stdout",
     "output_type": "stream",
     "text": [
      "hello\n"
     ]
    }
   ],
   "source": [
    "if (X_test.index.values.all()==final_test_result_IF.index.values.all()):\n",
    "    print(\"hello\")"
   ]
  },
  {
   "cell_type": "code",
   "execution_count": 38,
   "metadata": {},
   "outputs": [],
   "source": [
    "X_train_orig['score_IF']=score_train"
   ]
  },
  {
   "cell_type": "code",
   "execution_count": 39,
   "metadata": {},
   "outputs": [
    {
     "data": {
      "text/plain": [
       "0.03906412552275779"
      ]
     },
     "execution_count": 39,
     "metadata": {},
     "output_type": "execute_result"
    }
   ],
   "source": [
    "X_train_orig['score_IF'][0]"
   ]
  },
  {
   "cell_type": "code",
   "execution_count": 40,
   "metadata": {},
   "outputs": [
    {
     "data": {
      "text/plain": [
       "234"
      ]
     },
     "execution_count": 40,
     "metadata": {},
     "output_type": "execute_result"
    }
   ],
   "source": [
    "len(df[df['action']=='block'])"
   ]
  },
  {
   "cell_type": "code",
   "execution_count": 41,
   "metadata": {},
   "outputs": [],
   "source": [
    "a=final_test_result_SVM[final_test_result_SVM['prediction']==-1]"
   ]
  },
  {
   "cell_type": "code",
   "execution_count": 42,
   "metadata": {},
   "outputs": [],
   "source": [
    "b=final_test_result_IF[final_test_result_IF['prediction']==-1]"
   ]
  },
  {
   "cell_type": "code",
   "execution_count": 43,
   "metadata": {},
   "outputs": [
    {
     "data": {
      "text/html": [
       "<div>\n",
       "<style scoped>\n",
       "    .dataframe tbody tr th:only-of-type {\n",
       "        vertical-align: middle;\n",
       "    }\n",
       "\n",
       "    .dataframe tbody tr th {\n",
       "        vertical-align: top;\n",
       "    }\n",
       "\n",
       "    .dataframe thead th {\n",
       "        text-align: right;\n",
       "    }\n",
       "</style>\n",
       "<table border=\"1\" class=\"dataframe\">\n",
       "  <thead>\n",
       "    <tr style=\"text-align: right;\">\n",
       "      <th></th>\n",
       "      <th>prediction</th>\n",
       "      <th>response_code</th>\n",
       "      <th>access_method</th>\n",
       "      <th>user_name</th>\n",
       "      <th>user_agent_device</th>\n",
       "      <th>user_agent_os</th>\n",
       "      <th>user_agent_name</th>\n",
       "      <th>geoip_city_name</th>\n",
       "      <th>geoip_continent_name</th>\n",
       "      <th>geoip_country_iso_code</th>\n",
       "      <th>geoip_region_name</th>\n",
       "      <th>access_route</th>\n",
       "      <th>ip_transform</th>\n",
       "    </tr>\n",
       "  </thead>\n",
       "  <tbody>\n",
       "    <tr>\n",
       "      <th>19319</th>\n",
       "      <td>-1</td>\n",
       "      <td>200</td>\n",
       "      <td>POST</td>\n",
       "      <td>supritha</td>\n",
       "      <td>Other</td>\n",
       "      <td>Windows 10</td>\n",
       "      <td>Chrome</td>\n",
       "      <td>Bengaluru</td>\n",
       "      <td>Asia</td>\n",
       "      <td>IN</td>\n",
       "      <td>Karnataka</td>\n",
       "      <td>jenkinscore</td>\n",
       "      <td>2868415352</td>\n",
       "    </tr>\n",
       "    <tr>\n",
       "      <th>19342</th>\n",
       "      <td>-1</td>\n",
       "      <td>200</td>\n",
       "      <td>GET</td>\n",
       "      <td>supritha</td>\n",
       "      <td>Other</td>\n",
       "      <td>Windows 10</td>\n",
       "      <td>Chrome</td>\n",
       "      <td>Bengaluru</td>\n",
       "      <td>Asia</td>\n",
       "      <td>IN</td>\n",
       "      <td>Karnataka</td>\n",
       "      <td>jenkinscore</td>\n",
       "      <td>2868415352</td>\n",
       "    </tr>\n",
       "    <tr>\n",
       "      <th>19344</th>\n",
       "      <td>-1</td>\n",
       "      <td>200</td>\n",
       "      <td>GET</td>\n",
       "      <td>supritha</td>\n",
       "      <td>Other</td>\n",
       "      <td>Windows 10</td>\n",
       "      <td>Chrome</td>\n",
       "      <td>Bengaluru</td>\n",
       "      <td>Asia</td>\n",
       "      <td>IN</td>\n",
       "      <td>Karnataka</td>\n",
       "      <td>jenkinscore</td>\n",
       "      <td>2868415352</td>\n",
       "    </tr>\n",
       "    <tr>\n",
       "      <th>19345</th>\n",
       "      <td>-1</td>\n",
       "      <td>200</td>\n",
       "      <td>GET</td>\n",
       "      <td>supritha</td>\n",
       "      <td>Other</td>\n",
       "      <td>Windows 10</td>\n",
       "      <td>Chrome</td>\n",
       "      <td>Bengaluru</td>\n",
       "      <td>Asia</td>\n",
       "      <td>IN</td>\n",
       "      <td>Karnataka</td>\n",
       "      <td>jenkinscore</td>\n",
       "      <td>2868415352</td>\n",
       "    </tr>\n",
       "    <tr>\n",
       "      <th>19347</th>\n",
       "      <td>-1</td>\n",
       "      <td>200</td>\n",
       "      <td>GET</td>\n",
       "      <td>supritha</td>\n",
       "      <td>Other</td>\n",
       "      <td>Windows 10</td>\n",
       "      <td>Chrome</td>\n",
       "      <td>Bengaluru</td>\n",
       "      <td>Asia</td>\n",
       "      <td>IN</td>\n",
       "      <td>Karnataka</td>\n",
       "      <td>jenkinscore</td>\n",
       "      <td>2868415352</td>\n",
       "    </tr>\n",
       "  </tbody>\n",
       "</table>\n",
       "</div>"
      ],
      "text/plain": [
       "       prediction  response_code access_method user_name user_agent_device  \\\n",
       "19319          -1            200          POST  supritha             Other   \n",
       "19342          -1            200           GET  supritha             Other   \n",
       "19344          -1            200           GET  supritha             Other   \n",
       "19345          -1            200           GET  supritha             Other   \n",
       "19347          -1            200           GET  supritha             Other   \n",
       "\n",
       "      user_agent_os user_agent_name geoip_city_name geoip_continent_name  \\\n",
       "19319    Windows 10          Chrome       Bengaluru                 Asia   \n",
       "19342    Windows 10          Chrome       Bengaluru                 Asia   \n",
       "19344    Windows 10          Chrome       Bengaluru                 Asia   \n",
       "19345    Windows 10          Chrome       Bengaluru                 Asia   \n",
       "19347    Windows 10          Chrome       Bengaluru                 Asia   \n",
       "\n",
       "      geoip_country_iso_code geoip_region_name access_route  ip_transform  \n",
       "19319                     IN         Karnataka  jenkinscore    2868415352  \n",
       "19342                     IN         Karnataka  jenkinscore    2868415352  \n",
       "19344                     IN         Karnataka  jenkinscore    2868415352  \n",
       "19345                     IN         Karnataka  jenkinscore    2868415352  \n",
       "19347                     IN         Karnataka  jenkinscore    2868415352  "
      ]
     },
     "execution_count": 43,
     "metadata": {},
     "output_type": "execute_result"
    }
   ],
   "source": [
    "a.head()"
   ]
  },
  {
   "cell_type": "code",
   "execution_count": 44,
   "metadata": {},
   "outputs": [
    {
     "data": {
      "text/html": [
       "<div>\n",
       "<style scoped>\n",
       "    .dataframe tbody tr th:only-of-type {\n",
       "        vertical-align: middle;\n",
       "    }\n",
       "\n",
       "    .dataframe tbody tr th {\n",
       "        vertical-align: top;\n",
       "    }\n",
       "\n",
       "    .dataframe thead th {\n",
       "        text-align: right;\n",
       "    }\n",
       "</style>\n",
       "<table border=\"1\" class=\"dataframe\">\n",
       "  <thead>\n",
       "    <tr style=\"text-align: right;\">\n",
       "      <th></th>\n",
       "      <th>prediction</th>\n",
       "      <th>response_code</th>\n",
       "      <th>access_method</th>\n",
       "      <th>user_name</th>\n",
       "      <th>user_agent_device</th>\n",
       "      <th>user_agent_os</th>\n",
       "      <th>user_agent_name</th>\n",
       "      <th>geoip_city_name</th>\n",
       "      <th>geoip_continent_name</th>\n",
       "      <th>geoip_country_iso_code</th>\n",
       "      <th>geoip_region_name</th>\n",
       "      <th>access_route</th>\n",
       "      <th>ip_transform</th>\n",
       "    </tr>\n",
       "  </thead>\n",
       "  <tbody>\n",
       "    <tr>\n",
       "      <th>19171</th>\n",
       "      <td>-1</td>\n",
       "      <td>200</td>\n",
       "      <td>GET</td>\n",
       "      <td>ethanadmin</td>\n",
       "      <td>Other</td>\n",
       "      <td>Windows 10</td>\n",
       "      <td>Chrome</td>\n",
       "      <td>Bengaluru</td>\n",
       "      <td>Asia</td>\n",
       "      <td>IN</td>\n",
       "      <td>Karnataka</td>\n",
       "      <td>rocketchat</td>\n",
       "      <td>2868415023</td>\n",
       "    </tr>\n",
       "    <tr>\n",
       "      <th>19337</th>\n",
       "      <td>-1</td>\n",
       "      <td>200</td>\n",
       "      <td>GET</td>\n",
       "      <td>ethanadmin</td>\n",
       "      <td>Other</td>\n",
       "      <td>Windows 10</td>\n",
       "      <td>Chrome</td>\n",
       "      <td>Bengaluru</td>\n",
       "      <td>Asia</td>\n",
       "      <td>IN</td>\n",
       "      <td>Karnataka</td>\n",
       "      <td>rocketchat</td>\n",
       "      <td>3753514638</td>\n",
       "    </tr>\n",
       "    <tr>\n",
       "      <th>20741</th>\n",
       "      <td>-1</td>\n",
       "      <td>200</td>\n",
       "      <td>GET</td>\n",
       "      <td>sushmitha</td>\n",
       "      <td>Other</td>\n",
       "      <td>Windows 10</td>\n",
       "      <td>Chrome</td>\n",
       "      <td>Ashburn</td>\n",
       "      <td>North America</td>\n",
       "      <td>US</td>\n",
       "      <td>Virginia</td>\n",
       "      <td>jenkinscore</td>\n",
       "      <td>583936030</td>\n",
       "    </tr>\n",
       "    <tr>\n",
       "      <th>20759</th>\n",
       "      <td>-1</td>\n",
       "      <td>200</td>\n",
       "      <td>GET</td>\n",
       "      <td>sushmitha</td>\n",
       "      <td>Other</td>\n",
       "      <td>Windows 10</td>\n",
       "      <td>Chrome</td>\n",
       "      <td>Ashburn</td>\n",
       "      <td>North America</td>\n",
       "      <td>US</td>\n",
       "      <td>Virginia</td>\n",
       "      <td>jenkinscore</td>\n",
       "      <td>583936030</td>\n",
       "    </tr>\n",
       "    <tr>\n",
       "      <th>20765</th>\n",
       "      <td>-1</td>\n",
       "      <td>200</td>\n",
       "      <td>GET</td>\n",
       "      <td>sushmitha</td>\n",
       "      <td>Other</td>\n",
       "      <td>Windows 10</td>\n",
       "      <td>Chrome</td>\n",
       "      <td>Ashburn</td>\n",
       "      <td>North America</td>\n",
       "      <td>US</td>\n",
       "      <td>Virginia</td>\n",
       "      <td>jenkinscore</td>\n",
       "      <td>583936030</td>\n",
       "    </tr>\n",
       "  </tbody>\n",
       "</table>\n",
       "</div>"
      ],
      "text/plain": [
       "       prediction  response_code access_method   user_name user_agent_device  \\\n",
       "19171          -1            200           GET  ethanadmin             Other   \n",
       "19337          -1            200           GET  ethanadmin             Other   \n",
       "20741          -1            200           GET   sushmitha             Other   \n",
       "20759          -1            200           GET   sushmitha             Other   \n",
       "20765          -1            200           GET   sushmitha             Other   \n",
       "\n",
       "      user_agent_os user_agent_name geoip_city_name geoip_continent_name  \\\n",
       "19171    Windows 10          Chrome       Bengaluru                 Asia   \n",
       "19337    Windows 10          Chrome       Bengaluru                 Asia   \n",
       "20741    Windows 10          Chrome         Ashburn        North America   \n",
       "20759    Windows 10          Chrome         Ashburn        North America   \n",
       "20765    Windows 10          Chrome         Ashburn        North America   \n",
       "\n",
       "      geoip_country_iso_code geoip_region_name access_route  ip_transform  \n",
       "19171                     IN         Karnataka   rocketchat    2868415023  \n",
       "19337                     IN         Karnataka   rocketchat    3753514638  \n",
       "20741                     US          Virginia  jenkinscore     583936030  \n",
       "20759                     US          Virginia  jenkinscore     583936030  \n",
       "20765                     US          Virginia  jenkinscore     583936030  "
      ]
     },
     "execution_count": 44,
     "metadata": {},
     "output_type": "execute_result"
    }
   ],
   "source": [
    "b.head()"
   ]
  },
  {
   "cell_type": "code",
   "execution_count": 45,
   "metadata": {},
   "outputs": [
    {
     "data": {
      "image/png": "[encoded data removed]",
      "text/plain": [
       "<Figure size 432x288 with 1 Axes>"
      ]
     },
     "metadata": {},
     "output_type": "display_data"
    }
   ],
   "source": [
    "plt.plot(score_test,y_predict_test)\n",
    "plt.show()"
   ]
  },
  {
   "cell_type": "code",
   "execution_count": 120,
   "metadata": {},
   "outputs": [
    {
     "data": {
      "text/plain": [
       "21328"
      ]
     },
     "execution_count": 120,
     "metadata": {},
     "output_type": "execute_result"
    }
   ],
   "source": [
    "len(normal)"
   ]
  },
  {
   "cell_type": "code",
   "execution_count": 121,
   "metadata": {},
   "outputs": [
    {
     "data": {
      "text/plain": [
       "21562"
      ]
     },
     "execution_count": 121,
     "metadata": {},
     "output_type": "execute_result"
    }
   ],
   "source": [
    "len(df)"
   ]
  },
  {
   "cell_type": "code",
   "execution_count": 137,
   "metadata": {},
   "outputs": [
    {
     "data": {
      "text/plain": [
       "0.011872739078007606"
      ]
     },
     "execution_count": 137,
     "metadata": {},
     "output_type": "execute_result"
    }
   ],
   "source": [
    "256/21562"
   ]
  },
  {
   "cell_type": "code",
   "execution_count": null,
   "metadata": {},
   "outputs": [],
   "source": []
  }
 ],
 "metadata": {
  "kernelspec": {
   "display_name": "Python 3",
   "language": "python",
   "name": "python3"
  },
  "language_info": {
   "codemirror_mode": {
    "name": "ipython",
    "version": 3
   },
   "file_extension": ".py",
   "mimetype": "text/x-python",
   "name": "python",
   "nbconvert_exporter": "python",
   "pygments_lexer": "ipython3",
   "version": "3.6.5"
  }
 },
 "nbformat": 4,
 "nbformat_minor": 2
}
