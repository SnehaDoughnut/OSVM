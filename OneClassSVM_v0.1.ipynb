{
 "cells": [
  {
   "cell_type": "code",
   "execution_count": null,
   "metadata": {},
   "outputs": [],
   "source": [
    "#X_train : label encoded\n",
    "#X_train_1 : one hot encoded\n",
    "#X_train_scale : Scaled data\n",
    "#X_train_orig: original data without enocding \n",
    "#outlier_predict_train : SVM train result\n",
    "#outlier_predict_test: SVM test result"
   ]
  },
  {
   "cell_type": "code",
   "execution_count": null,
   "metadata": {},
   "outputs": [],
   "source": [
    "import pandas as pd\n",
    "import numpy as np\n",
    "import matplotlib.pyplot as plt\n",
    "from sklearn.model_selection import train_test_split\n",
    "from sklearn import svm\n",
    "from numpy import array"
   ]
  },
  {
   "cell_type": "code",
   "execution_count": null,
   "metadata": {},
   "outputs": [],
   "source": [
    "#Get the dataset\n",
    "df=pd.read_csv('nginx_IP_validation')"
   ]
  },
  {
   "cell_type": "code",
   "execution_count": null,
   "metadata": {},
   "outputs": [],
   "source": [
    "#Select only required features\n",
    "ndf=df[['ip','response_code','url','access_method','user_name','user_agent_device','user_agent_os','user_agent_name','geoip_city_name','geoip_continent_name','geoip_country_iso_code','geoip_region_name','action']]\n",
    "\n",
    "#preprocessing begins\n",
    "#splitting ip into 4 segments\n",
    "#ip=ndf['ip']\n",
    "#ip_df=pd.DataFrame(ip)\n",
    "#ip_df=ip_df['ip'].str.split('.',expand=True).rename(columns=lambda x: \"segment\"+str(x+1)).astype(int)\n",
    "#ndf=ndf.join(ip_df)\n",
    "\n",
    "#getting the first accessed route from url\n",
    "url=ndf['url']\n",
    "url_df=pd.DataFrame(url)\n",
    "url_df=url_df['url'].str.split('/',expand=True)\n",
    "url_df=url_df.loc[:,1].to_frame('url')\n",
    "url_df=url_df.replace(r'^\\s*$', np.nan, regex=True)\n",
    "url_df.url.fillna('events',inplace=True)\n",
    "url_df.rename(columns={'url':'access_route'},inplace=True)\n",
    "ndf=ndf.join(url_df)"
   ]
  },
  {
   "cell_type": "code",
   "execution_count": null,
   "metadata": {},
   "outputs": [],
   "source": [
    "#Converting IP address to int values\n",
    "ip_transform=[]\n",
    "from ipaddress import ip_address\n",
    "for i in df['ip']:\n",
    "    ips=int(ip_address(i))\n",
    "    ip_transform.append(ips)\n",
    "\n",
    "ip_df=pd.DataFrame(ip_transform)\n",
    "ip_df.rename(columns={0:'ip_transform'},inplace=True)\n",
    "ndf=ndf.join(ip_df)"
   ]
  },
  {
   "cell_type": "code",
   "execution_count": null,
   "metadata": {},
   "outputs": [],
   "source": [
    "#Making allow as 1 and block as -1 and storing it into attack column\n",
    "ndf.loc[ndf['action'] == \"allow\", \"attack\"] = 1  \n",
    "ndf.loc[ndf['action'] != \"allow\", \"attack\"] = -1\n",
    "target=ndf['attack']"
   ]
  },
  {
   "cell_type": "code",
   "execution_count": null,
   "metadata": {},
   "outputs": [],
   "source": [
    "#drop the processed columns\n",
    "ndf.drop(columns=['ip','url','action'],inplace=True)"
   ]
  },
  {
   "cell_type": "code",
   "execution_count": null,
   "metadata": {},
   "outputs": [],
   "source": [
    "#estimate number of outliers in the dataset\n",
    "nu = target[target == -1]  \n",
    "print(\"nu.shape\", nu.shape)  \n",
    "print(\"outlier fraction\", nu.shape[0]/target.shape[0])\n"
   ]
  },
  {
   "cell_type": "code",
   "execution_count": null,
   "metadata": {},
   "outputs": [],
   "source": [
    "normal=ndf.loc[ndf.attack==1] #dataframe with normal observations \n",
    "abnormal=ndf.loc[ndf.attack==-1] #dataframe with abnormal observations\n",
    "\n"
   ]
  },
  {
   "cell_type": "code",
   "execution_count": null,
   "metadata": {},
   "outputs": [],
   "source": [
    "# Once class SVM is trained with the observations of only one class.The algorithm is trained with \n",
    "# first 19000 observation of normal transactions. The remaining observation is merged with the anomalous observation \n",
    "# to create a test set. \n",
    "X_train = normal.loc[0:19000, :].drop('attack',1)\n",
    "\n",
    "#creating test observations\n",
    "X_test_1 = normal.loc[19001:, :].drop('attack',1)\n",
    "X_test_2 = abnormal.drop('attack',1)\n",
    "X_test = X_test_1.append(X_test_2)\n",
    "\n",
    "#Y_test to test the output of model\n",
    "Y_1 = normal.loc[19001:, 'attack']\n",
    "Y_2 = abnormal['attack']\n",
    "Y_test= Y_1.append(Y_2)\n",
    "\n",
    "X_train_orig=X_train.copy()\n",
    "X_test_orig=X_test.copy()\n",
    "\n"
   ]
  },
  {
   "cell_type": "code",
   "execution_count": null,
   "metadata": {},
   "outputs": [],
   "source": [
    "#X_train=pd.get_dummies(X_train)\n",
    "#X_test = pd.get_dummies(X_test)\n",
    "#X_test=X_test.reindex(columns = X_train.columns, fill_value=0)\n"
   ]
  },
  {
   "cell_type": "code",
   "execution_count": null,
   "metadata": {},
   "outputs": [],
   "source": [
    "from sklearn.preprocessing import LabelEncoder\n",
    "le=LabelEncoder()\n",
    "# Iterating over all the common columns in train and test\n",
    "for col in X_test.columns.values:\n",
    "    # Encoding only categorical variables\n",
    "    if X_test[col].dtypes=='object':\n",
    "    # Using whole data to form an exhaustive list of levels\n",
    "        data=X_train[col].append(X_test[col])\n",
    "        le.fit(data.values)\n",
    "        X_train[col]=le.transform(X_train[col])\n",
    "        X_test[col]=le.transform(X_test[col])"
   ]
  },
  {
   "cell_type": "code",
   "execution_count": null,
   "metadata": {},
   "outputs": [],
   "source": [
    "#Then encoding using one hot encoding\n",
    "from sklearn.preprocessing import OneHotEncoder\n",
    "columns=['access_method','user_name','user_agent_device','user_agent_os','user_agent_name','geoip_city_name','geoip_continent_name','geoip_country_iso_code','geoip_region_name','access_route']\n",
    "enc=OneHotEncoder(sparse=False)\n",
    "\n",
    "\n",
    "X_train_1=X_train\n",
    "X_test_1=X_test\n",
    "\n",
    "for col in columns:\n",
    "    data=X_train[[col]].append(X_test[[col]])\n",
    "    enc.fit(data.values)\n",
    "    \n",
    "    temp = enc.transform(X_train[[col]])\n",
    "    # Changing the encoded features into a data frame with new column names\n",
    "    temp=pd.DataFrame(temp,columns=[(col+\"_\"+str(i)) for i in data[col].value_counts().index])\n",
    "    # Setting the index values similar to the X_train data frame\n",
    "    temp=temp.set_index(X_train.index.values)\n",
    "    # adding the new One Hot Encoded varibales to the train data frame\n",
    "    X_train_1=pd.concat([X_train_1,temp],axis=1)\n",
    "    \n",
    "    # fitting One Hot Encoding on test data\n",
    "    temp = enc.transform(X_test[[col]])\n",
    "    # changing it into data frame and adding column names\n",
    "    temp=pd.DataFrame(temp,columns=[(col+\"_\"+str(i)) for i in data[col].value_counts().index])\n",
    "    # Setting the index for proper concatenation\n",
    "    temp=temp.set_index(X_test.index.values)\n",
    "    # adding the new One Hot Encoded varibales to test data frame\n",
    "    X_test_1=pd.concat([X_test_1,temp],axis=1)"
   ]
  },
  {
   "cell_type": "code",
   "execution_count": null,
   "metadata": {},
   "outputs": [],
   "source": [
    "#Drop the initial columns that are already encoded\n",
    "X_train_1.drop(columns=columns,axis=1,inplace=True)\n",
    "X_test_1.drop(columns=columns,axis=1,inplace=True)"
   ]
  },
  {
   "cell_type": "code",
   "execution_count": null,
   "metadata": {},
   "outputs": [],
   "source": [
    "#standardadizing as SVM assumes standardization\n",
    "from sklearn.preprocessing import scale\n",
    "X_train_scale=scale(X_train_1)\n",
    "X_test_scale=scale(X_test_1)"
   ]
  },
  {
   "cell_type": "code",
   "execution_count": null,
   "metadata": {},
   "outputs": [],
   "source": [
    "# Setting the hyperparameters for Once Class SVM\n",
    "oneclass = svm.OneClassSVM(kernel='rbf', gamma=0.004, nu=0.0001)"
   ]
  },
  {
   "cell_type": "code",
   "execution_count": null,
   "metadata": {},
   "outputs": [],
   "source": [
    "#Fit the model with train_feature\n",
    "oneclass.fit(X_train_scale)"
   ]
  },
  {
   "cell_type": "code",
   "execution_count": null,
   "metadata": {},
   "outputs": [],
   "source": [
    "#Output of one class SVM\n",
    "outlier_predict_test=oneclass.predict(X_test_scale)"
   ]
  },
  {
   "cell_type": "code",
   "execution_count": null,
   "metadata": {},
   "outputs": [],
   "source": [
    "# Check the number of outliers predicted by the algorithm\n",
    "unique, counts = np.unique(outlier_predict_test, return_counts=True)\n",
    "print (np.asarray((unique, counts)).T)"
   ]
  },
  {
   "cell_type": "code",
   "execution_count": null,
   "metadata": {},
   "outputs": [],
   "source": [
    "#Convert Y-test and outlier_predict to dataframe \n",
    "\n",
    "Y_test= Y_test.to_frame()\n",
    "Y_test=Y_test.reset_index()\n",
    "outlier_predict_test = pd.DataFrame(outlier_predict_test)\n",
    "outlier_predict_test= outlier_predict_test.rename(columns={0: 'prediction'})"
   ]
  },
  {
   "cell_type": "code",
   "execution_count": null,
   "metadata": {},
   "outputs": [],
   "source": [
    "#Calculate false positives and negatives\n",
    "TP = FN = FP = TN = 0\n",
    "for j in range(len(Y_test)):\n",
    "    if Y_test['attack'][j]== 1 and outlier_predict_test['prediction'][j] == 1:\n",
    "        TP = TP+1\n",
    "    elif Y_test['attack'][j]== 1 and outlier_predict_test['prediction'][j] == -1:\n",
    "        FN = FN+1\n",
    "    elif Y_test['attack'][j]== -1 and outlier_predict_test['prediction'][j] == 1:\n",
    "        FP = FP+1\n",
    "    else:\n",
    "        TN = TN +1\n",
    "print (TP,  FN,  FP,  TN)"
   ]
  },
  {
   "cell_type": "code",
   "execution_count": null,
   "metadata": {},
   "outputs": [],
   "source": [
    "from sklearn import metrics\n",
    "print(\"accuracy:\",metrics.accuracy_score(Y_test['attack'],outlier_predict_test['prediction']))\n",
    "print(\"precison:\",metrics.precision_score(Y_test['attack'],outlier_predict_test['prediction']))\n",
    "print(\"recall:\",metrics.recall_score(Y_test['attack'],outlier_predict_test['prediction']))\n",
    "print(\"f1:\",metrics.f1_score(Y_test['attack'],outlier_predict_test['prediction']))\n",
    "print(\"area under curve (auc): \", metrics.roc_auc_score(Y_test['attack'],outlier_predict_test['prediction'])) "
   ]
  },
  {
   "cell_type": "code",
   "execution_count": null,
   "metadata": {},
   "outputs": [],
   "source": [
    "final_test_result_SVM=outlier_predict_test.set_index(X_test_orig.index.values).join(X_test_orig)"
   ]
  },
  {
   "cell_type": "code",
   "execution_count": null,
   "metadata": {},
   "outputs": [],
   "source": [
    "#Predict the train results\n",
    "outlier_predict_train=oneclass.predict(X_train_scale)"
   ]
  },
  {
   "cell_type": "code",
   "execution_count": null,
   "metadata": {},
   "outputs": [],
   "source": [
    "#Convert train results to DataFrame\n",
    "outlier_predict_train=pd.DataFrame(outlier_predict_train)\n",
    "outlier_predict_train.rename(columns={0:'prediction'},inplace=True)"
   ]
  },
  {
   "cell_type": "code",
   "execution_count": null,
   "metadata": {
    "scrolled": true
   },
   "outputs": [],
   "source": [
    "X_train.hist(figsize=(20,20))\n",
    "plt.show()"
   ]
  },
  {
   "cell_type": "code",
   "execution_count": null,
   "metadata": {},
   "outputs": [],
   "source": [
    "\n",
    "corr=X_train.corr()"
   ]
  },
  {
   "cell_type": "code",
   "execution_count": null,
   "metadata": {},
   "outputs": [],
   "source": [
    "import seaborn as sns\n",
    "fig=plt.figure(figsize=(12,9))"
   ]
  },
  {
   "cell_type": "code",
   "execution_count": null,
   "metadata": {},
   "outputs": [],
   "source": [
    "sns.heatmap(corr,vmax=0.8,square=True)\n",
    "plt.show()"
   ]
  },
  {
   "cell_type": "code",
   "execution_count": null,
   "metadata": {},
   "outputs": [],
   "source": [
    "from sklearn.ensemble import IsolationForest\n",
    "IsoForest=IsolationForest(n_estimators=80,contamination=0.01,max_samples=len(X_train))\n",
    "\n",
    "IsoForest.fit(X_train)\n",
    "y_predict_train=IsoForest.predict(X_train)\n",
    "score_train=IsoForest.decision_function(X_train)\n",
    "\n",
    "unique, counts = np.unique(y_predict_train, return_counts=True)\n",
    "print (np.asarray((unique, counts)).T)"
   ]
  },
  {
   "cell_type": "code",
   "execution_count": null,
   "metadata": {},
   "outputs": [],
   "source": [
    "y_predict_train=pd.DataFrame(y_predict_train)\n",
    "y_predict_train.rename(columns={0:'prediction'},inplace=True)"
   ]
  },
  {
   "cell_type": "code",
   "execution_count": null,
   "metadata": {},
   "outputs": [],
   "source": [
    "y_predict_test=IsoForest.predict(X_test)\n",
    "score_test=IsoForest.decision_function(X_test)\n",
    "\n",
    "unique, counts = np.unique(y_predict_test, return_counts=True)\n",
    "print (np.asarray((unique, counts)).T)"
   ]
  },
  {
   "cell_type": "code",
   "execution_count": null,
   "metadata": {},
   "outputs": [],
   "source": [
    "#convert y_predict_test to DataFrame\n",
    "y_predict_test=pd.DataFrame(y_predict_test)\n",
    "y_predict_test.rename(columns={0:'prediction'},inplace=True)"
   ]
  },
  {
   "cell_type": "code",
   "execution_count": null,
   "metadata": {},
   "outputs": [],
   "source": [
    "final_test_result_IF=y_predict_test.set_index(X_test.index.values).join(X_test_orig)"
   ]
  },
  {
   "cell_type": "code",
   "execution_count": null,
   "metadata": {},
   "outputs": [],
   "source": [
    "if (X_test.index.values.all()==final_test_result_IF.index.values.all()):\n",
    "    print(\"hello\")"
   ]
  },
  {
   "cell_type": "code",
   "execution_count": null,
   "metadata": {},
   "outputs": [],
   "source": [
    "X_train_orig['score_IF']=score_train"
   ]
  },
  {
   "cell_type": "code",
   "execution_count": null,
   "metadata": {},
   "outputs": [],
   "source": [
    "X_train_orig['score_IF'][0]"
   ]
  },
  {
   "cell_type": "code",
   "execution_count": null,
   "metadata": {},
   "outputs": [],
   "source": [
    "len(df[df['action']=='block'])"
   ]
  },
  {
   "cell_type": "code",
   "execution_count": null,
   "metadata": {},
   "outputs": [],
   "source": [
    "a=final_test_result_SVM[final_test_result_SVM['prediction']==-1]"
   ]
  },
  {
   "cell_type": "code",
   "execution_count": null,
   "metadata": {},
   "outputs": [],
   "source": [
    "b=final_test_result_IF[final_test_result_IF['prediction']==-1]"
   ]
  },
  {
   "cell_type": "code",
   "execution_count": null,
   "metadata": {},
   "outputs": [],
   "source": []
  }
 ],
 "metadata": {
  "kernelspec": {
   "display_name": "Python 3",
   "language": "python",
   "name": "python3"
  },
  "language_info": {
   "codemirror_mode": {
    "name": "ipython",
    "version": 3
   },
   "file_extension": ".py",
   "mimetype": "text/x-python",
   "name": "python",
   "nbconvert_exporter": "python",
   "pygments_lexer": "ipython3",
   "version": "3.6.5"
  }
 },
 "nbformat": 4,
 "nbformat_minor": 2
}
